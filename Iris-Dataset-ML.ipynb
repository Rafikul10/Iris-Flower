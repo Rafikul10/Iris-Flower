{
 "cells": [
  {
   "cell_type": "markdown",
   "id": "199e5459",
   "metadata": {},
   "source": [
    "# Importing all necessary libaries"
   ]
  },
  {
   "cell_type": "code",
   "execution_count": 1,
   "id": "36d06865",
   "metadata": {},
   "outputs": [],
   "source": [
    "import numpy as np\n",
    "import pandas as pd\n",
    "import matplotlib.pyplot as plt\n",
    "import seaborn as sns\n",
    "from sklearn import datasets, linear_model\n",
    "from sklearn.metrics import mean_squared_error\n",
    "from sklearn.neighbors import KNeighborsClassifier\n",
    "plt.style.use(\"dark_background\")\n"
   ]
  },
  {
   "cell_type": "markdown",
   "id": "b79c36fc",
   "metadata": {},
   "source": [
    "# Impoerting iris dataset\n",
    "data_iris=datasets.load_iris()"
   ]
  },
  {
   "cell_type": "code",
   "execution_count": 2,
   "id": "36634fdf",
   "metadata": {},
   "outputs": [
    {
     "ename": "NameError",
     "evalue": "name 'data_iris' is not defined",
     "output_type": "error",
     "traceback": [
      "\u001b[1;31m---------------------------------------------------------------------------\u001b[0m",
      "\u001b[1;31mNameError\u001b[0m                                 Traceback (most recent call last)",
      "Input \u001b[1;32mIn [2]\u001b[0m, in \u001b[0;36m<cell line: 1>\u001b[1;34m()\u001b[0m\n\u001b[1;32m----> 1\u001b[0m \u001b[43mdata_iris\u001b[49m\u001b[38;5;241m.\u001b[39mkeys()\n",
      "\u001b[1;31mNameError\u001b[0m: name 'data_iris' is not defined"
     ]
    }
   ],
   "source": [
    "data_iris.keys()"
   ]
  },
  {
   "cell_type": "code",
   "execution_count": null,
   "id": "813fb4a7",
   "metadata": {},
   "outputs": [],
   "source": [
    "#set train and test data set of features and labels \n",
    "data_iris_x_train=data_iris.data[:-50]\n",
    "data_iris_x_test=data_iris.data[-50:]\n",
    "data_iris_y_train=data_iris.target[:-50]\n",
    "data_iris_y_test=data_iris.target[-50:]"
   ]
  },
  {
   "cell_type": "code",
   "execution_count": null,
   "id": "a53cc00c",
   "metadata": {},
   "outputs": [],
   "source": [
    "#linear regresion on iris dataset\n",
    "model_iris= linear_model.LinearRegression()"
   ]
  },
  {
   "cell_type": "code",
   "execution_count": null,
   "id": "b98f1c2b",
   "metadata": {},
   "outputs": [],
   "source": [
    "model_iris.fit(data_iris_x_train,data_iris_y_train)"
   ]
  },
  {
   "cell_type": "code",
   "execution_count": null,
   "id": "05df59a9",
   "metadata": {},
   "outputs": [],
   "source": [
    "#predicted the ;labels of given features\n",
    "test_data_predict=model_iris.predict(data_iris_x_test)"
   ]
  },
  {
   "cell_type": "code",
   "execution_count": null,
   "id": "275ec300",
   "metadata": {},
   "outputs": [],
   "source": [
    "#error\n",
    "mean_squared_error(data_iris_y_test,test_data_predict)"
   ]
  },
  {
   "cell_type": "code",
   "execution_count": null,
   "id": "b48c7b44",
   "metadata": {},
   "outputs": [],
   "source": [
    "#Weights of model_iris\n",
    "model.coef_"
   ]
  },
  {
   "cell_type": "code",
   "execution_count": null,
   "id": "73fc16fd",
   "metadata": {},
   "outputs": [],
   "source": [
    "#Interceptor of model_iris\n",
    "model_iris.intercept_"
   ]
  },
  {
   "cell_type": "code",
   "execution_count": null,
   "id": "45bb95de",
   "metadata": {},
   "outputs": [],
   "source": [
    "iris2=datasets.load_iris()"
   ]
  },
  {
   "cell_type": "code",
   "execution_count": null,
   "id": "027034f4",
   "metadata": {},
   "outputs": [],
   "source": [
    "iris2.data[0]"
   ]
  },
  {
   "cell_type": "code",
   "execution_count": null,
   "id": "b5b16e92",
   "metadata": {},
   "outputs": [],
   "source": [
    "iris2.target[0]"
   ]
  },
  {
   "cell_type": "code",
   "execution_count": null,
   "id": "311e4619",
   "metadata": {},
   "outputs": [],
   "source": [
    "iris2.DESCR"
   ]
  },
  {
   "cell_type": "code",
   "execution_count": null,
   "id": "078b2e3f",
   "metadata": {},
   "outputs": [],
   "source": [
    "features=iris2.data"
   ]
  },
  {
   "cell_type": "code",
   "execution_count": null,
   "id": "44f8a495",
   "metadata": {},
   "outputs": [],
   "source": [
    "labels=iris2.target"
   ]
  },
  {
   "cell_type": "code",
   "execution_count": null,
   "id": "5afbadb6",
   "metadata": {},
   "outputs": [],
   "source": [
    "clf= KNeighborsClassifier()"
   ]
  },
  {
   "cell_type": "code",
   "execution_count": null,
   "id": "cb1dec61",
   "metadata": {},
   "outputs": [],
   "source": [
    "model2=clf.fit(features,labels)"
   ]
  },
  {
   "cell_type": "code",
   "execution_count": null,
   "id": "f5abb051",
   "metadata": {},
   "outputs": [],
   "source": [
    "prd=model2.predict([[5.9, 3. ,0, 1.8]])"
   ]
  },
  {
   "cell_type": "code",
   "execution_count": null,
   "id": "2b4e893e",
   "metadata": {},
   "outputs": [],
   "source": [
    "prd"
   ]
  },
  {
   "cell_type": "code",
   "execution_count": null,
   "id": "9ac6001c",
   "metadata": {},
   "outputs": [],
   "source": [
    "iris2.keys()"
   ]
  },
  {
   "cell_type": "code",
   "execution_count": null,
   "id": "694c61ab",
   "metadata": {},
   "outputs": [],
   "source": [
    "iris2.target_names"
   ]
  },
  {
   "cell_type": "code",
   "execution_count": null,
   "id": "4beff446",
   "metadata": {},
   "outputs": [],
   "source": [
    "iris2.data[149]"
   ]
  },
  {
   "cell_type": "code",
   "execution_count": null,
   "id": "39c9b666",
   "metadata": {},
   "outputs": [],
   "source": [
    "iris2.target[149]"
   ]
  },
  {
   "cell_type": "code",
   "execution_count": null,
   "id": "941c8e5e",
   "metadata": {},
   "outputs": [],
   "source": [
    "#Observation: It's versicolor species"
   ]
  }
 ],
 "metadata": {
  "kernelspec": {
   "display_name": "Python 3 (ipykernel)",
   "language": "python",
   "name": "python3"
  },
  "language_info": {
   "codemirror_mode": {
    "name": "ipython",
    "version": 3
   },
   "file_extension": ".py",
   "mimetype": "text/x-python",
   "name": "python",
   "nbconvert_exporter": "python",
   "pygments_lexer": "ipython3",
   "version": "3.9.12"
  }
 },
 "nbformat": 4,
 "nbformat_minor": 5
}
